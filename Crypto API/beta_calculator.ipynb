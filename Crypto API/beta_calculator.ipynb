{
 "cells": [
  {
   "cell_type": "code",
   "execution_count": 25,
   "metadata": {},
   "outputs": [
    {
     "name": "stdout",
     "output_type": "stream",
     "text": [
      "2019-03-13\n"
     ]
    }
   ],
   "source": [
    "import yfinance as yf\n",
    "import numpy as np\n",
    "from sklearn.linear_model import LinearRegression\n",
    "from datetime import date\n",
    "from dateutil.relativedelta import relativedelta\n",
    "\n",
    "three_yrs_ago = date.today() - relativedelta(years=3)\n",
    "\n",
    "print(three_yrs_ago)"
   ]
  },
  {
   "cell_type": "code",
   "execution_count": 22,
   "metadata": {},
   "outputs": [
    {
     "name": "stdout",
     "output_type": "stream",
     "text": [
      "2019-03-13 14:08:06.833992\n"
     ]
    }
   ],
   "source": [
    "from datetime import datetime\n",
    "from dateutil.relativedelta import relativedelta\n",
    "\n",
    "three_yrs_ago = datetime.now() - relativedelta(years=3)\n",
    "\n",
    "print(three_yrs_ago)"
   ]
  },
  {
   "cell_type": "code",
   "execution_count": 15,
   "metadata": {},
   "outputs": [
    {
     "name": "stdout",
     "output_type": "stream",
     "text": [
      "2022-03-13\n"
     ]
    }
   ],
   "source": [
    "# def changeY():\n",
    "    \n",
    "\n",
    "print(date.today())"
   ]
  },
  {
   "cell_type": "code",
   "execution_count": 3,
   "metadata": {},
   "outputs": [],
   "source": [
    "def beta(startDate, symbols):\n",
    "    data = yf.download(symbols, startDate)['Adj Close']\n",
    "    # Convert historical stock prices to daily percent change\n",
    "    price_change = data.pct_change()\n",
    "    # Deletes row one containing the NaN\n",
    "    df = price_change.drop(price_change.index[0])\n",
    "    # Create arrays for x and y variables in the regression model       # Set up the model and define the type of regression\n",
    "    x = np.array(df[symbols[1]]).reshape((-1,1))\n",
    "    y = np.array(df[symbols[0]])\n",
    "    model = LinearRegression().fit(x, y)\n",
    "    return print('Beta = ', model.coef_)"
   ]
  },
  {
   "cell_type": "code",
   "execution_count": 4,
   "metadata": {},
   "outputs": [
    {
     "ename": "AttributeError",
     "evalue": "type object 'datetime.date' has no attribute 'now'",
     "output_type": "error",
     "traceback": [
      "\u001b[0;31m---------------------------------------------------------------------------\u001b[0m",
      "\u001b[0;31mAttributeError\u001b[0m                            Traceback (most recent call last)",
      "\u001b[1;32m/Users/joe/python scripts/Crypto API/beta_calculator.ipynb Cell 4'\u001b[0m in \u001b[0;36m<cell line: 7>\u001b[0;34m()\u001b[0m\n\u001b[1;32m      <a href='vscode-notebook-cell:/Users/joe/python%20scripts/Crypto%20API/beta_calculator.ipynb#ch0000003?line=3'>4</a>\u001b[0m         dates \u001b[39m+\u001b[39m\u001b[39m=\u001b[39m date\u001b[39m.\u001b[39mnow() \u001b[39m-\u001b[39m relativedelta(years\u001b[39m=\u001b[39m(i\u001b[39m+\u001b[39m\u001b[39m1\u001b[39m))\n\u001b[1;32m      <a href='vscode-notebook-cell:/Users/joe/python%20scripts/Crypto%20API/beta_calculator.ipynb#ch0000003?line=4'>5</a>\u001b[0m     \u001b[39mreturn\u001b[39;00m \u001b[39mprint\u001b[39m(dates)\n\u001b[0;32m----> <a href='vscode-notebook-cell:/Users/joe/python%20scripts/Crypto%20API/beta_calculator.ipynb#ch0000003?line=6'>7</a>\u001b[0m multibeta()\n",
      "\u001b[1;32m/Users/joe/python scripts/Crypto API/beta_calculator.ipynb Cell 4'\u001b[0m in \u001b[0;36mmultibeta\u001b[0;34m()\u001b[0m\n\u001b[1;32m      <a href='vscode-notebook-cell:/Users/joe/python%20scripts/Crypto%20API/beta_calculator.ipynb#ch0000003?line=1'>2</a>\u001b[0m dates \u001b[39m=\u001b[39m []\n\u001b[1;32m      <a href='vscode-notebook-cell:/Users/joe/python%20scripts/Crypto%20API/beta_calculator.ipynb#ch0000003?line=2'>3</a>\u001b[0m \u001b[39mfor\u001b[39;00m i \u001b[39min\u001b[39;00m \u001b[39mrange\u001b[39m(\u001b[39m10\u001b[39m):\n\u001b[0;32m----> <a href='vscode-notebook-cell:/Users/joe/python%20scripts/Crypto%20API/beta_calculator.ipynb#ch0000003?line=3'>4</a>\u001b[0m     dates \u001b[39m+\u001b[39m\u001b[39m=\u001b[39m date\u001b[39m.\u001b[39;49mnow() \u001b[39m-\u001b[39m relativedelta(years\u001b[39m=\u001b[39m(i\u001b[39m+\u001b[39m\u001b[39m1\u001b[39m))\n\u001b[1;32m      <a href='vscode-notebook-cell:/Users/joe/python%20scripts/Crypto%20API/beta_calculator.ipynb#ch0000003?line=4'>5</a>\u001b[0m \u001b[39mreturn\u001b[39;00m \u001b[39mprint\u001b[39m(dates)\n",
      "\u001b[0;31mAttributeError\u001b[0m: type object 'datetime.date' has no attribute 'now'"
     ]
    }
   ],
   "source": [
    "def subtract_years(dt, years):\n",
    "    try:\n",
    "        dt = dt.replace(year=dt.year-years)\n",
    "    except ValueError:\n",
    "        dt = dt.replace(year=dt.year-years, day=dt.day-1)\n",
    "    return dt\n",
    "\n",
    "\n",
    "def multibeta():\n",
    "    dates = []\n",
    "    for i in range(10):\n",
    "        dates += date.now() - relativedelta(years=(i+1))\n",
    "    return print(dates)\n",
    "\n",
    "multibeta()"
   ]
  },
  {
   "cell_type": "code",
   "execution_count": null,
   "metadata": {},
   "outputs": [
    {
     "name": "stdout",
     "output_type": "stream",
     "text": [
      "[*********************100%***********************]  2 of 2 completed\n",
      "Beta =  [0.9720673]\n"
     ]
    }
   ],
   "source": [
    "# symbols = [stock, market]\n",
    "symbols = ['CL=F', 'BP', 'FANG']\n",
    "# start date for historical prices\n",
    "start_date = '2020-2-22'\n",
    "\n",
    "beta(start_date, symbols)"
   ]
  },
  {
   "cell_type": "code",
   "execution_count": null,
   "metadata": {},
   "outputs": [],
   "source": []
  }
 ],
 "metadata": {
  "interpreter": {
   "hash": "aee8b7b246df8f9039afb4144a1f6fd8d2ca17a180786b69acc140d282b71a49"
  },
  "kernelspec": {
   "display_name": "Python 3.9.10 64-bit",
   "language": "python",
   "name": "python3"
  },
  "language_info": {
   "codemirror_mode": {
    "name": "ipython",
    "version": 3
   },
   "file_extension": ".py",
   "mimetype": "text/x-python",
   "name": "python",
   "nbconvert_exporter": "python",
   "pygments_lexer": "ipython3",
   "version": "3.9.12"
  },
  "orig_nbformat": 4
 },
 "nbformat": 4,
 "nbformat_minor": 2
}
